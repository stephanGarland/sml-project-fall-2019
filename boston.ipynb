{
 "cells": [
  {
   "cell_type": "code",
   "execution_count": 110,
   "metadata": {},
   "outputs": [],
   "source": [
    "import numpy as np\n",
    "import pandas as pd\n",
    "import matplotlib.pyplot as plt\n",
    "import xgboost as xgb\n",
    "import math\n",
    "from scipy.stats import pearsonr\n",
    "from sklearn.linear_model import LinearRegression\n",
    "from sklearn import tree, linear_model\n",
    "from sklearn.model_selection import cross_validate, train_test_split\n",
    "from sklearn.metrics import explained_variance_score"
   ]
  },
  {
   "cell_type": "code",
   "execution_count": 125,
   "metadata": {},
   "outputs": [],
   "source": [
    "crime = pd.read_csv(\"./data/crime.csv\", low_memory=False).add_prefix(\"crime_\")\n",
    "police = pd.read_csv(\"./data/police_sta.csv\").add_prefix(\"police_\")\n",
    "fire = pd.read_csv(\"./data/fire_dept.csv\").add_prefix(\"fire_\")\n",
    "community = pd.read_csv(\"./data/community_centers.csv\").add_prefix(\"community_\")\n",
    "parks = pd.read_csv(\"./data/parks.csv\").add_prefix(\"parks_\")\n",
    "weather = pd.read_csv(\"./data/weather.csv\").add_prefix(\"weather_\")\n",
    "\n",
    "crime.name = \"crime\"\n",
    "police.name = \"police\"\n",
    "fire.name = \"fire\"\n",
    "community.name = \"community\"\n",
    "parks.name = \"parks\"\n",
    "weather.name = \"weather\"\n",
    "\n",
    "datasets = [crime, police, fire, community, parks, weather]"
   ]
  },
  {
   "cell_type": "code",
   "execution_count": 127,
   "metadata": {},
   "outputs": [
    {
     "ename": "SyntaxError",
     "evalue": "invalid syntax (<ipython-input-127-5e6d01153e1a>, line 6)",
     "output_type": "error",
     "traceback": [
      "\u001b[0;36m  File \u001b[0;32m\"<ipython-input-127-5e6d01153e1a>\"\u001b[0;36m, line \u001b[0;32m6\u001b[0m\n\u001b[0;31m    df.drop(columns~=[\"coord\"])\u001b[0m\n\u001b[0m                   ^\u001b[0m\n\u001b[0;31mSyntaxError\u001b[0m\u001b[0;31m:\u001b[0m invalid syntax\n"
     ]
    }
   ],
   "source": [
    "for df in datasets:\n",
    "    # Some of the datasets have Lat/Long as Y/X\n",
    "    # They also have longcoord and latcoord, but they're unsigned, so dropping them\n",
    "    df.columns = df.columns.str.replace('X', 'long')\n",
    "    df.columns = df.columns.str.replace('Y', 'lat')\n",
    "    df.drop(columns~=[\"coord\"])\n",
    "    \n",
    "    # Makes typing easier\n",
    "    df.columns = [x.lower() for x in df.columns]\n",
    "    \n",
    "    print(dataset.isnull().any())\n",
    "    print()"
   ]
  },
  {
   "cell_type": "code",
   "execution_count": 114,
   "metadata": {},
   "outputs": [
    {
     "ename": "KeyError",
     "evalue": "['Lat', 'Long']",
     "output_type": "error",
     "traceback": [
      "\u001b[0;31m---------------------------------------------------------------------------\u001b[0m",
      "\u001b[0;31mKeyError\u001b[0m                                  Traceback (most recent call last)",
      "\u001b[0;32m<ipython-input-114-cda9a3b2514a>\u001b[0m in \u001b[0;36m<module>\u001b[0;34m\u001b[0m\n\u001b[1;32m      2\u001b[0m \u001b[0;31m# UCR_PART is Uniform Crime Reporting, and attempts to lump crimes into categories\u001b[0m\u001b[0;34m\u001b[0m\u001b[0;34m\u001b[0m\u001b[0;34m\u001b[0m\u001b[0m\n\u001b[1;32m      3\u001b[0m \u001b[0;31m# Can't live without Lat/Long, so we'll have to drop those\u001b[0m\u001b[0;34m\u001b[0m\u001b[0;34m\u001b[0m\u001b[0;34m\u001b[0m\u001b[0m\n\u001b[0;32m----> 4\u001b[0;31m \u001b[0mcrime\u001b[0m\u001b[0;34m.\u001b[0m\u001b[0mdropna\u001b[0m\u001b[0;34m(\u001b[0m\u001b[0msubset\u001b[0m\u001b[0;34m=\u001b[0m\u001b[0;34m[\u001b[0m\u001b[0;34m\"Lat\"\u001b[0m\u001b[0;34m,\u001b[0m \u001b[0;34m\"Long\"\u001b[0m\u001b[0;34m]\u001b[0m\u001b[0;34m,\u001b[0m \u001b[0minplace\u001b[0m\u001b[0;34m=\u001b[0m\u001b[0;32mTrue\u001b[0m\u001b[0;34m)\u001b[0m\u001b[0;34m\u001b[0m\u001b[0;34m\u001b[0m\u001b[0m\n\u001b[0m\u001b[1;32m      5\u001b[0m \u001b[0;34m\u001b[0m\u001b[0m\n\u001b[1;32m      6\u001b[0m \u001b[0;31m# My guess is that they only started recording this late into the dataset\u001b[0m\u001b[0;34m\u001b[0m\u001b[0;34m\u001b[0m\u001b[0;34m\u001b[0m\u001b[0m\n",
      "\u001b[0;32m/usr/local/lib/python3.7/site-packages/pandas/core/frame.py\u001b[0m in \u001b[0;36mdropna\u001b[0;34m(self, axis, how, thresh, subset, inplace)\u001b[0m\n\u001b[1;32m   4857\u001b[0m                 \u001b[0mcheck\u001b[0m \u001b[0;34m=\u001b[0m \u001b[0mindices\u001b[0m \u001b[0;34m==\u001b[0m \u001b[0;34m-\u001b[0m\u001b[0;36m1\u001b[0m\u001b[0;34m\u001b[0m\u001b[0;34m\u001b[0m\u001b[0m\n\u001b[1;32m   4858\u001b[0m                 \u001b[0;32mif\u001b[0m \u001b[0mcheck\u001b[0m\u001b[0;34m.\u001b[0m\u001b[0many\u001b[0m\u001b[0;34m(\u001b[0m\u001b[0;34m)\u001b[0m\u001b[0;34m:\u001b[0m\u001b[0;34m\u001b[0m\u001b[0;34m\u001b[0m\u001b[0m\n\u001b[0;32m-> 4859\u001b[0;31m                     \u001b[0;32mraise\u001b[0m \u001b[0mKeyError\u001b[0m\u001b[0;34m(\u001b[0m\u001b[0mlist\u001b[0m\u001b[0;34m(\u001b[0m\u001b[0mnp\u001b[0m\u001b[0;34m.\u001b[0m\u001b[0mcompress\u001b[0m\u001b[0;34m(\u001b[0m\u001b[0mcheck\u001b[0m\u001b[0;34m,\u001b[0m \u001b[0msubset\u001b[0m\u001b[0;34m)\u001b[0m\u001b[0;34m)\u001b[0m\u001b[0;34m)\u001b[0m\u001b[0;34m\u001b[0m\u001b[0;34m\u001b[0m\u001b[0m\n\u001b[0m\u001b[1;32m   4860\u001b[0m                 \u001b[0magg_obj\u001b[0m \u001b[0;34m=\u001b[0m \u001b[0mself\u001b[0m\u001b[0;34m.\u001b[0m\u001b[0mtake\u001b[0m\u001b[0;34m(\u001b[0m\u001b[0mindices\u001b[0m\u001b[0;34m,\u001b[0m \u001b[0maxis\u001b[0m\u001b[0;34m=\u001b[0m\u001b[0magg_axis\u001b[0m\u001b[0;34m)\u001b[0m\u001b[0;34m\u001b[0m\u001b[0;34m\u001b[0m\u001b[0m\n\u001b[1;32m   4861\u001b[0m \u001b[0;34m\u001b[0m\u001b[0m\n",
      "\u001b[0;31mKeyError\u001b[0m: ['Lat', 'Long']"
     ]
    }
   ],
   "source": [
    "### crime ###\n",
    "# UCR_PART is Uniform Crime Reporting, and attempts to lump crimes into categories\n",
    "# Can't live without Lat/Long, so we'll have to drop those\n",
    "crime.dropna(subset=[\"crime_Lat\", \"crime_Long\"], inplace=True)\n",
    "\n",
    "# My guess is that they only started recording this late into the dataset\n",
    "crime[\"crime_SHOOTING\"].notnull().any()"
   ]
  },
  {
   "cell_type": "code",
   "execution_count": 100,
   "metadata": {},
   "outputs": [
    {
     "data": {
      "text/plain": [
       "X               False\n",
       "Y               False\n",
       "OBJECTID        False\n",
       "BLDG_ID         False\n",
       "BID             False\n",
       "ADDRESS         False\n",
       "POINT_X         False\n",
       "POINT_Y         False\n",
       "NAME            False\n",
       "NEIGHBORHOOD    False\n",
       "CITY            False\n",
       "ZIP             False\n",
       "FT_SQFT          True\n",
       "STORY_HT         True\n",
       "PARCEL_ID       False\n",
       "dtype: bool"
      ]
     },
     "execution_count": 100,
     "metadata": {},
     "output_type": "execute_result"
    }
   ],
   "source": [
    "### police ###\n",
    "\n",
    "# None of the nulls here matter\n",
    "police.isnull().any()"
   ]
  },
  {
   "cell_type": "code",
   "execution_count": 88,
   "metadata": {},
   "outputs": [
    {
     "data": {
      "text/plain": [
       "X             False\n",
       "Y             False\n",
       "OBJECTID_1    False\n",
       "OBJECTID       True\n",
       "BFD_ID         True\n",
       "MAP_ID         True\n",
       "MAPCODE        True\n",
       "LOCCODE        True\n",
       "LOCDEPT        True\n",
       "LOCNAME        True\n",
       "LOCCONTACT     True\n",
       "LOCPHONE       True\n",
       "LOCSTNO        True\n",
       "LOCADDR       False\n",
       "LOCOWNER       True\n",
       "LOCWARD        True\n",
       "LOCPARCL       True\n",
       "LOCPRECT       True\n",
       "LOCPLAN        True\n",
       "STUDY          True\n",
       "ABOVE          True\n",
       "ABOVE_DESC     True\n",
       "SOURCE         True\n",
       "GEOADDRESS    False\n",
       "PD            False\n",
       "CT90           True\n",
       "XCOORD         True\n",
       "YCOORD         True\n",
       "dtype: bool"
      ]
     },
     "execution_count": 88,
     "metadata": {},
     "output_type": "execute_result"
    }
   ],
   "source": [
    "### fire ###\n",
    "\n",
    "# Lots of nulls here, but only ones that actually matter are X/Y (XCOORD and YCOORD are the same, but unsigned)\n",
    "fire.isnull().any()"
   ]
  },
  {
   "cell_type": "code",
   "execution_count": 89,
   "metadata": {},
   "outputs": [
    {
     "data": {
      "text/plain": [
       "X           False\n",
       "Y           False\n",
       "FID         False\n",
       "OBJECTID     True\n",
       "SITE        False\n",
       "PHONE       False\n",
       "FAX          True\n",
       "STREET      False\n",
       "NEIGH       False\n",
       "ZIP         False\n",
       "dtype: bool"
      ]
     },
     "execution_count": 89,
     "metadata": {},
     "output_type": "execute_result"
    }
   ],
   "source": [
    "### community ###\n",
    "\n",
    "# None of the nulls here matter\n",
    "community.isnull().any()"
   ]
  },
  {
   "cell_type": "code",
   "execution_count": 90,
   "metadata": {},
   "outputs": [
    {
     "data": {
      "text/plain": [
       "OBJECTID            False\n",
       "SITE_NAME           False\n",
       "OWNERSHIP           False\n",
       "PROTECTION           True\n",
       "TYPECODE            False\n",
       "DISTRICT            False\n",
       "ACRES               False\n",
       "ADDRESS             False\n",
       "ZonAgg              False\n",
       "TypeLong            False\n",
       "OS_Own_Jur           True\n",
       "OS_Mngmnt            True\n",
       "POS                 False\n",
       "PA                  False\n",
       "ALT_NAME             True\n",
       "AgncyJuris           True\n",
       "Shape_STArea__      False\n",
       "Shape_STLength__    False\n",
       "ShapeSTArea         False\n",
       "ShapeSTLength       False\n",
       "PARK_ID              True\n",
       "REGION              False\n",
       "dtype: bool"
      ]
     },
     "execution_count": 90,
     "metadata": {},
     "output_type": "execute_result"
    }
   ],
   "source": [
    "### parks ###\n",
    "\n",
    "# None of the nulls here matter\n",
    "parks.isnull().any()"
   ]
  },
  {
   "cell_type": "code",
   "execution_count": 91,
   "metadata": {},
   "outputs": [
    {
     "data": {
      "text/plain": [
       "Year                         False\n",
       "Month                        False\n",
       "Day                          False\n",
       "High Temp (F)                False\n",
       "Avg Temp (F)                 False\n",
       "Low Temp (F)                 False\n",
       "High Dew Point (F)           False\n",
       "Avg Dew Point (F)            False\n",
       "Low Dew Point (F)            False\n",
       "High Humidity (%)            False\n",
       "Avg Humidity (%)             False\n",
       "Low Humidity (%)             False\n",
       "High Sea Level Press (in)    False\n",
       "Avg Sea Level Press (in)     False\n",
       "Low Sea Level Press (in)     False\n",
       "High Visibility (mi)         False\n",
       "Avg Visibility (mi)          False\n",
       "Low Visibility (mi)          False\n",
       "High Wind (mph)              False\n",
       "Avg Wind (mph)               False\n",
       "High Wind Gust (mph)         False\n",
       "Snowfall (in)                False\n",
       "Precip (in)                  False\n",
       "Events                       False\n",
       "dtype: bool"
      ]
     },
     "execution_count": 91,
     "metadata": {},
     "output_type": "execute_result"
    }
   ],
   "source": [
    "### weather ###\n",
    "\n",
    "# No nulls, hooray\n",
    "weather.isnull().any()"
   ]
  },
  {
   "cell_type": "code",
   "execution_count": 103,
   "metadata": {},
   "outputs": [
    {
     "data": {
      "text/plain": [
       "['X',\n",
       " 'Y',\n",
       " 'OBJECTID',\n",
       " 'BLDG_ID',\n",
       " 'BID',\n",
       " 'ADDRESS',\n",
       " 'POINT_X',\n",
       " 'POINT_Y',\n",
       " 'NAME',\n",
       " 'NEIGHBORHOOD',\n",
       " 'CITY',\n",
       " 'ZIP',\n",
       " 'FT_SQFT',\n",
       " 'STORY_HT',\n",
       " 'PARCEL_ID']"
      ]
     },
     "execution_count": 103,
     "metadata": {},
     "output_type": "execute_result"
    }
   ],
   "source": [
    "police.columns.tolist()"
   ]
  },
  {
   "cell_type": "code",
   "execution_count": null,
   "metadata": {},
   "outputs": [],
   "source": [
    "features = data.iloc[:,3:].columns.tolist()\n",
    "target = data.iloc[:,2].name\n",
    "correlations = {}\n",
    "for f in features:\n",
    "    data_temp = data[[f,target]]\n",
    "    x1 = data_temp[f].values\n",
    "    x2 = data_temp[target].values\n",
    "    key = f + ' vs ' + target\n",
    "    correlations[key] = pearsonr(x1,x2)[0]\n",
    "data_correlations = pd.DataFrame(correlations, index=['Value']).T\n",
    "data_correlations.loc[data_correlations['Value'].abs().sort_values(ascending=False).index]"
   ]
  }
 ],
 "metadata": {
  "kernelspec": {
   "display_name": "sml",
   "language": "python",
   "name": "sml"
  },
  "language_info": {
   "codemirror_mode": {
    "name": "ipython",
    "version": 3
   },
   "file_extension": ".py",
   "mimetype": "text/x-python",
   "name": "python",
   "nbconvert_exporter": "python",
   "pygments_lexer": "ipython3",
   "version": "3.7.4"
  }
 },
 "nbformat": 4,
 "nbformat_minor": 2
}
