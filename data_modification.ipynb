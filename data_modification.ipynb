{
 "cells": [
  {
   "cell_type": "code",
   "execution_count": 1,
   "metadata": {},
   "outputs": [],
   "source": [
    "import pandas as pd"
   ]
  },
  {
   "cell_type": "code",
   "execution_count": 2,
   "metadata": {},
   "outputs": [],
   "source": [
    "# Need to be able to see all columns\n",
    "pd.set_option('display.max_columns', 999)"
   ]
  },
  {
   "cell_type": "code",
   "execution_count": 3,
   "metadata": {},
   "outputs": [],
   "source": [
    "police = pd.read_csv(\"./data/police_sta.csv\").add_prefix(\"police_\")\n",
    "fire = pd.read_csv(\"./data/fire_dept.csv\").add_prefix(\"fire_\")\n",
    "community = pd.read_csv(\"./data/community_centers.csv\").add_prefix(\"community_\")\n",
    "parks = pd.read_csv(\"./data/parks.csv\").add_prefix(\"parks_\")\n",
    "crime = pd.read_csv(\"./data/crime.csv\", low_memory=False).add_prefix(\"crime_\")\n",
    "\n",
    "crime.name = \"crime\"\n",
    "police.name = \"police\"\n",
    "fire.name = \"fire\"\n",
    "community.name = \"community\"\n",
    "parks.name = \"parks\""
   ]
  },
  {
   "cell_type": "code",
   "execution_count": 4,
   "metadata": {},
   "outputs": [],
   "source": [
    "humidity = pd.read_csv(\"./data/weather/humidity.csv\")\n",
    "temp = pd.read_csv(\"./data/weather/temperature.csv\")\n",
    "pressure = pd.read_csv(\"./data/weather/pressure.csv\")\n",
    "weather_descript = pd.read_csv(\"./data/weather/weather_description.csv\")\n",
    "wind_dir = pd.read_csv(\"./data/weather/wind_direction.csv\")\n",
    "wind_speed = pd.read_csv(\"./data/weather/wind_speed.csv\")\n",
    "\n",
    "humidity.name = \"humidity\"\n",
    "temp.name = \"temperature\"\n",
    "pressure.name = \"pressure\"\n",
    "weather_descript.name = \"weather_description\"\n",
    "wind_dir.name = \"wind_direction\"\n",
    "wind_speed.name = \"wind_speed\""
   ]
  },
  {
   "cell_type": "code",
   "execution_count": 5,
   "metadata": {},
   "outputs": [],
   "source": [
    "datasets = [crime, police, fire, community, parks, humidity, temp, pressure, weather_descript, wind_dir, wind_speed]"
   ]
  },
  {
   "cell_type": "code",
   "execution_count": 6,
   "metadata": {},
   "outputs": [],
   "source": [
    "for df in datasets:\n",
    "    # Some of the datasets have Lat/Long as Y/X, which can be confusing\n",
    "    # They also have longcoord and latcoord, but they're unsigned, so dropping them\n",
    "    # Regex is to avoid partial matching\n",
    "    df.columns = df.columns.str.replace(\"^[X]\", \"long\", regex=True)\n",
    "    df.columns = df.columns.str.replace(\"^[Y]\", \"lat\", regex=True)\n",
    "    df.drop(list(df.filter(regex=\"coord\")), axis = 1, inplace=True)\n",
    "    \n",
    "    # Makes typing easier\n",
    "    df.columns = [x.lower() for x in df.columns]"
   ]
  },
  {
   "cell_type": "code",
   "execution_count": 7,
   "metadata": {},
   "outputs": [],
   "source": [
    "# Renaming for consistency\n",
    "crime = crime.rename({\"crime_occurred_on_date\":\"datetime\"}, axis=1)"
   ]
  },
  {
   "cell_type": "code",
   "execution_count": null,
   "metadata": {},
   "outputs": [],
   "source": []
  }
 ],
 "metadata": {
  "kernelspec": {
   "display_name": "Python 3",
   "language": "python",
   "name": "python3"
  },
  "language_info": {
   "codemirror_mode": {
    "name": "ipython",
    "version": 3
   },
   "file_extension": ".py",
   "mimetype": "text/x-python",
   "name": "python",
   "nbconvert_exporter": "python",
   "pygments_lexer": "ipython3",
   "version": "3.7.4"
  }
 },
 "nbformat": 4,
 "nbformat_minor": 2
}
