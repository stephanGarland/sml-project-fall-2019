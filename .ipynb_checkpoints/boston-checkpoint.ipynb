{
 "cells": [
  {
   "cell_type": "code",
   "execution_count": 3,
   "metadata": {},
   "outputs": [],
   "source": [
    "import numpy as np\n",
    "import pandas as pd\n",
    "import matplotlib.pyplot as plt\n",
    "import xgboost as xgb\n",
    "import math\n",
    "from scipy.stats import pearsonr\n",
    "from sklearn.linear_model import LinearRegression\n",
    "from sklearn import tree, linear_model\n",
    "from sklearn.model_selection import cross_validate, train_test_split\n",
    "from sklearn.metrics import explained_variance_score"
   ]
  },
  {
   "cell_type": "code",
   "execution_count": 36,
   "metadata": {},
   "outputs": [],
   "source": [
    "crime = pd.read_csv(\"./data/crime.csv\", low_memory=False)\n",
    "police = pd.read_csv(\"./data/police_sta.csv\")\n",
    "fire = pd.read_csv(\"./data/fire_dept.csv\")\n",
    "community = pd.read_csv(\"./data/community_centers.csv\")\n",
    "parks = pd.read_csv(\"./data/parks.csv\")\n",
    "\n",
    "crime.name = \"crime\"\n",
    "police.name = \"police\"\n",
    "fire.name = \"fire\"\n",
    "community.name = \"community\"\n",
    "parks.name = \"parks\"\n",
    "\n",
    "datasets = [crime, police, fire, community, parks]"
   ]
  },
  {
   "cell_type": "code",
   "execution_count": 50,
   "metadata": {},
   "outputs": [
    {
     "name": "stdout",
     "output_type": "stream",
     "text": [
      "crime\n",
      "INCIDENT_NUMBER        False\n",
      "OFFENSE_CODE           False\n",
      "OFFENSE_CODE_GROUP     False\n",
      "OFFENSE_DESCRIPTION    False\n",
      "DISTRICT                True\n",
      "REPORTING_AREA         False\n",
      "SHOOTING                True\n",
      "OCCURRED_ON_DATE       False\n",
      "YEAR                   False\n",
      "MONTH                  False\n",
      "DAY_OF_WEEK            False\n",
      "HOUR                   False\n",
      "UCR_PART                True\n",
      "STREET                  True\n",
      "Lat                     True\n",
      "Long                    True\n",
      "Location               False\n",
      "dtype: bool\n",
      "\n",
      "police\n",
      "X               False\n",
      "Y               False\n",
      "OBJECTID        False\n",
      "BLDG_ID         False\n",
      "BID             False\n",
      "ADDRESS         False\n",
      "POINT_X         False\n",
      "POINT_Y         False\n",
      "NAME            False\n",
      "NEIGHBORHOOD    False\n",
      "CITY            False\n",
      "ZIP             False\n",
      "FT_SQFT          True\n",
      "STORY_HT         True\n",
      "PARCEL_ID       False\n",
      "dtype: bool\n",
      "\n",
      "fire\n",
      "X             False\n",
      "Y             False\n",
      "OBJECTID_1    False\n",
      "OBJECTID       True\n",
      "BFD_ID         True\n",
      "MAP_ID         True\n",
      "MAPCODE        True\n",
      "LOCCODE        True\n",
      "LOCDEPT        True\n",
      "LOCNAME        True\n",
      "LOCCONTACT     True\n",
      "LOCPHONE       True\n",
      "LOCSTNO        True\n",
      "LOCADDR       False\n",
      "LOCOWNER       True\n",
      "LOCWARD        True\n",
      "LOCPARCL       True\n",
      "LOCPRECT       True\n",
      "LOCPLAN        True\n",
      "STUDY          True\n",
      "ABOVE          True\n",
      "ABOVE_DESC     True\n",
      "SOURCE         True\n",
      "GEOADDRESS    False\n",
      "PD            False\n",
      "CT90           True\n",
      "XCOORD         True\n",
      "YCOORD         True\n",
      "dtype: bool\n",
      "\n",
      "community\n",
      "X           False\n",
      "Y           False\n",
      "FID         False\n",
      "OBJECTID     True\n",
      "SITE        False\n",
      "PHONE       False\n",
      "FAX          True\n",
      "STREET      False\n",
      "NEIGH       False\n",
      "ZIP         False\n",
      "dtype: bool\n",
      "\n",
      "parks\n",
      "OBJECTID            False\n",
      "SITE_NAME           False\n",
      "OWNERSHIP           False\n",
      "PROTECTION           True\n",
      "TYPECODE            False\n",
      "DISTRICT            False\n",
      "ACRES               False\n",
      "ADDRESS             False\n",
      "ZonAgg              False\n",
      "TypeLong            False\n",
      "OS_Own_Jur           True\n",
      "OS_Mngmnt            True\n",
      "POS                 False\n",
      "PA                  False\n",
      "ALT_NAME             True\n",
      "AgncyJuris           True\n",
      "Shape_STArea__      False\n",
      "Shape_STLength__    False\n",
      "ShapeSTArea         False\n",
      "ShapeSTLength       False\n",
      "PARK_ID              True\n",
      "REGION              False\n",
      "dtype: bool\n",
      "\n"
     ]
    }
   ],
   "source": [
    "for dataset in datasets:\n",
    "    print(dataset.name)\n",
    "    print(dataset.isnull().any())\n",
    "    print()"
   ]
  },
  {
   "cell_type": "code",
   "execution_count": 62,
   "metadata": {},
   "outputs": [
    {
     "data": {
      "text/plain": [
       "True"
      ]
     },
     "execution_count": 62,
     "metadata": {},
     "output_type": "execute_result"
    }
   ],
   "source": [
    "### crime ###\n",
    "# UCR_PART is Uniform Crime Reporting, and attempts to lump crimes into categories\n",
    "# Can't live without Lat/Long, so we'll have to drop those\n",
    "crime.dropna(subset=[\"Lat\", \"Long\"])\n",
    "\n",
    "# My guess is that they only started recording this late into the dataset\n",
    "crime[\"SHOOTING\"].notnull().any()"
   ]
  },
  {
   "cell_type": "code",
   "execution_count": 76,
   "metadata": {},
   "outputs": [
    {
     "data": {
      "text/plain": [
       "X               False\n",
       "Y               False\n",
       "OBJECTID        False\n",
       "BLDG_ID         False\n",
       "BID             False\n",
       "ADDRESS         False\n",
       "POINT_X         False\n",
       "POINT_Y         False\n",
       "NAME            False\n",
       "NEIGHBORHOOD    False\n",
       "CITY            False\n",
       "ZIP             False\n",
       "FT_SQFT          True\n",
       "STORY_HT         True\n",
       "PARCEL_ID       False\n",
       "dtype: bool"
      ]
     },
     "execution_count": 76,
     "metadata": {},
     "output_type": "execute_result"
    }
   ],
   "source": [
    "### police ###\n",
    "\n",
    "# None of the nulls here matter\n",
    "police.isnull().any()"
   ]
  },
  {
   "cell_type": "code",
   "execution_count": 78,
   "metadata": {},
   "outputs": [
    {
     "data": {
      "text/plain": [
       "X             False\n",
       "Y             False\n",
       "OBJECTID_1    False\n",
       "OBJECTID       True\n",
       "BFD_ID         True\n",
       "MAP_ID         True\n",
       "MAPCODE        True\n",
       "LOCCODE        True\n",
       "LOCDEPT        True\n",
       "LOCNAME        True\n",
       "LOCCONTACT     True\n",
       "LOCPHONE       True\n",
       "LOCSTNO        True\n",
       "LOCADDR       False\n",
       "LOCOWNER       True\n",
       "LOCWARD        True\n",
       "LOCPARCL       True\n",
       "LOCPRECT       True\n",
       "LOCPLAN        True\n",
       "STUDY          True\n",
       "ABOVE          True\n",
       "ABOVE_DESC     True\n",
       "SOURCE         True\n",
       "GEOADDRESS    False\n",
       "PD            False\n",
       "CT90           True\n",
       "XCOORD         True\n",
       "YCOORD         True\n",
       "dtype: bool"
      ]
     },
     "execution_count": 78,
     "metadata": {},
     "output_type": "execute_result"
    }
   ],
   "source": [
    "### fire ###\n",
    "\n",
    "# Lots of nulls here, but only ones that actually matter are X/Y (XCOORD and YCOORD are the same, but unsigned)\n",
    "fire.isnull().any()"
   ]
  },
  {
   "cell_type": "code",
   "execution_count": 79,
   "metadata": {},
   "outputs": [
    {
     "data": {
      "text/plain": [
       "X           False\n",
       "Y           False\n",
       "FID         False\n",
       "OBJECTID     True\n",
       "SITE        False\n",
       "PHONE       False\n",
       "FAX          True\n",
       "STREET      False\n",
       "NEIGH       False\n",
       "ZIP         False\n",
       "dtype: bool"
      ]
     },
     "execution_count": 79,
     "metadata": {},
     "output_type": "execute_result"
    }
   ],
   "source": [
    "### community ###\n",
    "\n",
    "# None of the nulls here matter\n",
    "community.isnull().any()"
   ]
  },
  {
   "cell_type": "code",
   "execution_count": 80,
   "metadata": {},
   "outputs": [
    {
     "data": {
      "text/plain": [
       "OBJECTID            False\n",
       "SITE_NAME           False\n",
       "OWNERSHIP           False\n",
       "PROTECTION           True\n",
       "TYPECODE            False\n",
       "DISTRICT            False\n",
       "ACRES               False\n",
       "ADDRESS             False\n",
       "ZonAgg              False\n",
       "TypeLong            False\n",
       "OS_Own_Jur           True\n",
       "OS_Mngmnt            True\n",
       "POS                 False\n",
       "PA                  False\n",
       "ALT_NAME             True\n",
       "AgncyJuris           True\n",
       "Shape_STArea__      False\n",
       "Shape_STLength__    False\n",
       "ShapeSTArea         False\n",
       "ShapeSTLength       False\n",
       "PARK_ID              True\n",
       "REGION              False\n",
       "dtype: bool"
      ]
     },
     "execution_count": 80,
     "metadata": {},
     "output_type": "execute_result"
    }
   ],
   "source": [
    "### parks ###\n",
    "\n",
    "# None of the nulls here matter\n",
    "parks.isnull().any()"
   ]
  },
  {
   "cell_type": "code",
   "execution_count": null,
   "metadata": {},
   "outputs": [],
   "source": []
  }
 ],
 "metadata": {
  "kernelspec": {
   "display_name": "sml",
   "language": "python",
   "name": "sml"
  },
  "language_info": {
   "codemirror_mode": {
    "name": "ipython",
    "version": 3
   },
   "file_extension": ".py",
   "mimetype": "text/x-python",
   "name": "python",
   "nbconvert_exporter": "python",
   "pygments_lexer": "ipython3",
   "version": "3.7.4"
  }
 },
 "nbformat": 4,
 "nbformat_minor": 2
}
